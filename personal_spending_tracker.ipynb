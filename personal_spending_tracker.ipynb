{
 "cells": [
  {
   "cell_type": "markdown",
   "metadata": {},
   "source": [
    "Earnings and spendings 2019"
   ]
  },
  {
   "cell_type": "markdown",
   "metadata": {},
   "source": [
    "Import libraries"
   ]
  },
  {
   "cell_type": "code",
   "execution_count": 1,
   "metadata": {},
   "outputs": [],
   "source": [
    "import pandas as pd \n",
    "#import numpy as np \n",
    "#import openpyxl\n",
    "from matplotlib import pyplot as plt "
   ]
  },
  {
   "cell_type": "markdown",
   "metadata": {},
   "source": [
    "Import Dataset"
   ]
  },
  {
   "cell_type": "code",
   "execution_count": 2,
   "metadata": {},
   "outputs": [],
   "source": [
    "df = pd.read_excel(\"C:/Users/Mo.l.tar/OneDrive/Documents/data analytics/dataset/Personal_Spending_2019_2020_table.xlsx\",engine = \"openpyxl\")"
   ]
  },
  {
   "cell_type": "markdown",
   "metadata": {},
   "source": [
    "Data Frame"
   ]
  },
  {
   "cell_type": "code",
   "execution_count": null,
   "metadata": {},
   "outputs": [],
   "source": [
    "df"
   ]
  },
  {
   "cell_type": "markdown",
   "metadata": {},
   "source": [
    "Data Cleaning"
   ]
  },
  {
   "cell_type": "markdown",
   "metadata": {},
   "source": [
    "Input data from data frame column 'Debit' to list variable"
   ]
  },
  {
   "cell_type": "code",
   "execution_count": 4,
   "metadata": {},
   "outputs": [],
   "source": [
    "list = []\n",
    "for i in df.Debit:\n",
    "    list.append(i)  \n",
    "#print(list)\n",
    "list2 = list\n"
   ]
  },
  {
   "cell_type": "markdown",
   "metadata": {},
   "source": [
    "1. Store the elements of list variable in 'Debit' variable after removing NaN elements.\n",
    "2. Finding the length of the list. \n",
    "3. Find the position of not null values in the list."
   ]
  },
  {
   "cell_type": "code",
   "execution_count": 5,
   "metadata": {},
   "outputs": [
    {
     "name": "stdout",
     "output_type": "stream",
     "text": [
      "[0, 1, 2, 3, 4, 5, 7, 8, 9, 10, 11, 13, 14, 15, 16, 17, 18, 19, 20, 21, 22, 23, 24, 25, 26, 27, 28, 29, 30, 31, 32, 33, 34, 35, 36, 37, 39, 40, 41, 42, 43, 45, 46, 47, 49, 52, 53, 55, 57, 58, 59, 60, 61, 62, 63, 64, 65, 66, 68, 70, 71, 72, 73, 76, 77, 79, 81, 83, 84, 86, 87, 90, 91, 92, 93, 95, 97, 98, 99, 100, 102, 104, 107, 109, 110, 113, 114, 115, 116, 118, 119, 121, 122, 123]\n"
     ]
    }
   ],
   "source": [
    "Debit = [x for x in list if not isinstance(x, str)]\n",
    "lenght = len(list)\n",
    "not_null_pos = [x for x in range(0,lenght) if not isinstance(list2[x],str)]\n",
    "print(not_null_pos)"
   ]
  },
  {
   "cell_type": "markdown",
   "metadata": {},
   "source": [
    "1. Make a new list variable named 'list3' and append it with 'Value Date' column.\n",
    "2. Make a nem list variable named 'date' and append it with int elements from list3."
   ]
  },
  {
   "cell_type": "code",
   "execution_count": 6,
   "metadata": {},
   "outputs": [
    {
     "name": "stdout",
     "output_type": "stream",
     "text": [
      "94\n"
     ]
    }
   ],
   "source": [
    "list3 = []\n",
    "for i in df['Value Date']:\n",
    "    list3.append(i)\n",
    "date = []\n",
    "for i in not_null_pos:\n",
    "    date.append(list3[i])\n",
    "print(len(date))"
   ]
  },
  {
   "cell_type": "markdown",
   "metadata": {},
   "source": [
    "Line Plot for date-debit graph."
   ]
  },
  {
   "cell_type": "code",
   "execution_count": 7,
   "metadata": {},
   "outputs": [
    {
     "data": {
      "text/plain": [
       "Text(0.5, 1.0, 'My personal spendings 2019')"
      ]
     },
     "execution_count": 7,
     "metadata": {},
     "output_type": "execute_result"
    },
    {
     "data": {
      "image/png": "[encoded data removed]",
      "text/plain": [
       "<Figure size 432x288 with 1 Axes>"
      ]
     },
     "metadata": {
      "needs_background": "light"
     },
     "output_type": "display_data"
    }
   ],
   "source": [
    "plt.plot(date,Debit)\n",
    "plt.xlabel('Date')\n",
    "plt.ylabel('Debit')\n",
    "plt.title('My personal spendings 2019')"
   ]
  },
  {
   "cell_type": "code",
   "execution_count": 13,
   "metadata": {},
   "outputs": [
    {
     "name": "stdout",
     "output_type": "stream",
     "text": [
      "[' ', ' ', ' ', ' ', ' ', ' ', 25000, ' ', ' ', ' ', ' ', ' ', 122, ' ', ' ', ' ', ' ', ' ', ' ', ' ', ' ', ' ', ' ', ' ', ' ', ' ', ' ', ' ', ' ', ' ', ' ', ' ', ' ', ' ', ' ', ' ', ' ', ' ', 160, ' ', ' ', ' ', ' ', ' ', 3000, ' ', ' ', ' ', 10000, ' ', 1000, 3000, ' ', ' ', 10000, ' ', 25000, ' ', ' ', ' ', ' ', ' ', ' ', ' ', ' ', ' ', ' ', 4000, ' ', 40, ' ', ' ', ' ', ' ', 2, 1000, ' ', ' ', 150, ' ', 10, ' ', 2000, ' ', ' ', 399, ' ', ' ', 4000, 2000, ' ', ' ', ' ', ' ', 4000, ' ', 15, ' ', ' ', ' ', ' ', 11, ' ', 12, ' ', 34, 1000, ' ', 2000, ' ', ' ', 6, 8500, ' ', ' ', ' ', ' ', 500, ' ', ' ', 4000, ' ', ' ', ' ', 100]\n"
     ]
    }
   ],
   "source": [
    "cre_list = []\n",
    "for i in df.Credit:\n",
    "    cre_list.append(i)\n",
    "print(cre_list)\n",
    "cre_list2 = cre_list"
   ]
  },
  {
   "cell_type": "code",
   "execution_count": 20,
   "metadata": {},
   "outputs": [
    {
     "name": "stdout",
     "output_type": "stream",
     "text": [
      "[25000, 122, 160, 3000, 10000, 1000, 3000, 10000, 25000, 4000, 40, 2, 1000, 150, 10, 2000, 399, 4000, 2000, 4000, 15, 11, 12, 34, 1000, 2000, 6, 8500, 500, 4000, 100]\n",
      "125\n",
      "[6, 12, 38, 44, 48, 50, 51, 54, 56, 67, 69, 74, 75, 78, 80, 82, 85, 88, 89, 94, 96, 101, 103, 105, 106, 108, 111, 112, 117, 120, 124]\n"
     ]
    }
   ],
   "source": [
    "Credit = [x for x in cre_list if not isinstance(x, str)]\n",
    "print(Credit)\n",
    "cred_len = len(cre_list)\n",
    "cre_not_null_pos = [x for x in range(0,cred_len) if not isinstance(cre_list2[x],str)]\n",
    "print(cred_len)\n",
    "print(cre_not_null_pos)"
   ]
  },
  {
   "cell_type": "code",
   "execution_count": 17,
   "metadata": {},
   "outputs": [
    {
     "name": "stdout",
     "output_type": "stream",
     "text": [
      "31\n"
     ]
    }
   ],
   "source": [
    "cre_list3 = []\n",
    "for i in df['Value Date']:\n",
    "    cre_list3.append(i)\n",
    "cred_date = []\n",
    "for i in cre_not_null_pos:\n",
    "    cred_date.append(cre_list3[i])\n",
    "print(len(cred_date))"
   ]
  },
  {
   "cell_type": "code",
   "execution_count": 18,
   "metadata": {},
   "outputs": [
    {
     "data": {
      "text/plain": [
       "Text(0.5, 1.0, 'My personal earnings 2019')"
      ]
     },
     "execution_count": 18,
     "metadata": {},
     "output_type": "execute_result"
    },
    {
     "data": {
      "image/png": "[encoded data removed]",
      "text/plain": [
       "<Figure size 432x288 with 1 Axes>"
      ]
     },
     "metadata": {
      "needs_background": "light"
     },
     "output_type": "display_data"
    }
   ],
   "source": [
    "plt.plot(cred_date,Credit)\n",
    "plt.xlabel('Date')\n",
    "plt.ylabel('Debit')\n",
    "plt.title('My personal earnings 2019')"
   ]
  }
 ],
 "metadata": {
  "interpreter": {
   "hash": "c99a520a13db95d7256f2c15c3d7bcce29de16a70a0824cf053c81b466455a91"
  },
  "kernelspec": {
   "display_name": "Python 3.9.1 64-bit",
   "language": "python",
   "name": "python3"
  },
  "language_info": {
   "codemirror_mode": {
    "name": "ipython",
    "version": 3
   },
   "file_extension": ".py",
   "mimetype": "text/x-python",
   "name": "python",
   "nbconvert_exporter": "python",
   "pygments_lexer": "ipython3",
   "version": "3.9.1"
  },
  "orig_nbformat": 4
 },
 "nbformat": 4,
 "nbformat_minor": 2
}
