{
 "cells": [
  {
   "cell_type": "markdown",
   "metadata": {},
   "source": [
    "Earnings and spendings 2019"
   ]
  },
  {
   "cell_type": "markdown",
   "metadata": {},
   "source": [
    "Import libraries"
   ]
  },
  {
   "cell_type": "code",
   "execution_count": 1,
   "metadata": {},
   "outputs": [],
   "source": [
    "import pandas as pd \n",
    "#import numpy as np \n",
    "#import openpyxl\n",
    "from matplotlib import pyplot as plt "
   ]
  },
  {
   "cell_type": "markdown",
   "metadata": {},
   "source": [
    "Import Dataset"
   ]
  },
  {
   "cell_type": "code",
   "execution_count": 2,
   "metadata": {},
   "outputs": [],
   "source": [
    "df = pd.read_excel(\"<file  path>",engine = \"openpyxl\")"
   ]
  },
  {
   "cell_type": "markdown",
   "metadata": {},
   "source": [
    "Data Frame"
   ]
  },
  {
   "cell_type": "code",
   "execution_count": null,
   "metadata": {},
   "outputs": [],
   "source": [
    "df"
   ]
  },
  {
   "cell_type": "markdown",
   "metadata": {},
   "source": [
    "Data Cleaning"
   ]
  },
  {
   "cell_type": "markdown",
   "metadata": {},
   "source": [
    "Input data from data frame column 'Debit' to list variable"
   ]
  },
  {
   "cell_type": "code",
   "execution_count": 4,
   "metadata": {},
   "outputs": [],
   "source": [
    "list = []\n",
    "for i in df.Debit:\n",
    "    list.append(i)  \n",
    "#print(list)\n",
    "list2 = list\n"
   ]
  },
  {
   "cell_type": "markdown",
   "metadata": {},
   "source": [
    "1. Store the elements of list variable in 'Debit' variable after removing NaN elements.\n",
    "2. Finding the length of the list. \n",
    "3. Find the position of not null values in the list."
   ]
  },
  {
   "cell_type": "code",
   "execution_count": 5,
   "metadata": {},
   "outputs": [
    {
     "name": "stdout",
     "output_type": "stream",
     "text": [
      "[0, 1, 2, 3, 4, 5, 7, 8, 9, 10, 11, 13, 14, 15, 16, 17, 18, 19, 20, 21, 22, 23, 24, 25, 26, 27, 28, 29, 30, 31, 32, 33, 34, 35, 36, 37, 39, 40, 41, 42, 43, 45, 46, 47, 49, 52, 53, 55, 57, 58, 59, 60, 61, 62, 63, 64, 65, 66, 68, 70, 71, 72, 73, 76, 77, 79, 81, 83, 84, 86, 87, 90, 91, 92, 93, 95, 97, 98, 99, 100, 102, 104, 107, 109, 110, 113, 114, 115, 116, 118, 119, 121, 122, 123]\n"
     ]
    }
   ],
   "source": [
    "Debit = [x for x in list if not isinstance(x, str)]\n",
    "lenght = len(list)\n",
    "not_null_pos = [x for x in range(0,lenght) if not isinstance(list2[x],str)]\n",
    "print(not_null_pos)"
   ]
  },
  {
   "cell_type": "markdown",
   "metadata": {},
   "source": [
    "1. Make a new list variable named 'list3' and append it with 'Value Date' column.\n",
    "2. Make a nem list variable named 'date' and append it with int elements from list3."
   ]
  },
  {
   "cell_type": "code",
   "execution_count": 6,
   "metadata": {},
   "outputs": [
    {
     "name": "stdout",
     "output_type": "stream",
     "text": [
      "94\n"
     ]
    }
   ],
   "source": [
    "list3 = []\n",
    "for i in df['Value Date']:\n",
    "    list3.append(i)\n",
    "date = []\n",
    "for i in not_null_pos:\n",
    "    date.append(list3[i])\n",
    "print(len(date))"
   ]
  },
  {
   "cell_type": "markdown",
   "metadata": {},
   "source": [
    "Line Plot for date-debit graph."
   ]
  },
  {
   "cell_type": "code",
   "execution_count": 7,
   "metadata": {},
   "outputs": [
    {
     "data": {
      "text/plain": [
       "Text(0.5, 1.0, 'My personal spendings 2019')"
      ]
     },
     "execution_count": 7,
     "metadata": {},
     "output_type": "execute_result"
    },
    {
     "data": {
      "image/png": "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",
      "text/plain": [
       "<Figure size 432x288 with 1 Axes>"
      ]
     },
     "metadata": {
      "needs_background": "light"
     },
     "output_type": "display_data"
    }
   ],
   "source": [
    "plt.plot(date,Debit)\n",
    "plt.xlabel('Date')\n",
    "plt.ylabel('Debit')\n",
    "plt.title('My personal spendings 2019')"
   ]
  },
  {
   "cell_type": "code",
   "execution_count": 13,
   "metadata": {},
   "outputs": [
    {
     "name": "stdout",
     "output_type": "stream",
     "text": [
      "[' ', ' ', ' ', ' ', ' ', ' ', 25000, ' ', ' ', ' ', ' ', ' ', 122, ' ', ' ', ' ', ' ', ' ', ' ', ' ', ' ', ' ', ' ', ' ', ' ', ' ', ' ', ' ', ' ', ' ', ' ', ' ', ' ', ' ', ' ', ' ', ' ', ' ', 160, ' ', ' ', ' ', ' ', ' ', 3000, ' ', ' ', ' ', 10000, ' ', 1000, 3000, ' ', ' ', 10000, ' ', 25000, ' ', ' ', ' ', ' ', ' ', ' ', ' ', ' ', ' ', ' ', 4000, ' ', 40, ' ', ' ', ' ', ' ', 2, 1000, ' ', ' ', 150, ' ', 10, ' ', 2000, ' ', ' ', 399, ' ', ' ', 4000, 2000, ' ', ' ', ' ', ' ', 4000, ' ', 15, ' ', ' ', ' ', ' ', 11, ' ', 12, ' ', 34, 1000, ' ', 2000, ' ', ' ', 6, 8500, ' ', ' ', ' ', ' ', 500, ' ', ' ', 4000, ' ', ' ', ' ', 100]\n"
     ]
    }
   ],
   "source": [
    "cre_list = []\n",
    "for i in df.Credit:\n",
    "    cre_list.append(i)\n",
    "print(cre_list)\n",
    "cre_list2 = cre_list"
   ]
  },
  {
   "cell_type": "code",
   "execution_count": 20,
   "metadata": {},
   "outputs": [
    {
     "name": "stdout",
     "output_type": "stream",
     "text": [
      "[25000, 122, 160, 3000, 10000, 1000, 3000, 10000, 25000, 4000, 40, 2, 1000, 150, 10, 2000, 399, 4000, 2000, 4000, 15, 11, 12, 34, 1000, 2000, 6, 8500, 500, 4000, 100]\n",
      "125\n",
      "[6, 12, 38, 44, 48, 50, 51, 54, 56, 67, 69, 74, 75, 78, 80, 82, 85, 88, 89, 94, 96, 101, 103, 105, 106, 108, 111, 112, 117, 120, 124]\n"
     ]
    }
   ],
   "source": [
    "Credit = [x for x in cre_list if not isinstance(x, str)]\n",
    "print(Credit)\n",
    "cred_len = len(cre_list)\n",
    "cre_not_null_pos = [x for x in range(0,cred_len) if not isinstance(cre_list2[x],str)]\n",
    "print(cred_len)\n",
    "print(cre_not_null_pos)"
   ]
  },
  {
   "cell_type": "code",
   "execution_count": 17,
   "metadata": {},
   "outputs": [
    {
     "name": "stdout",
     "output_type": "stream",
     "text": [
      "31\n"
     ]
    }
   ],
   "source": [
    "cre_list3 = []\n",
    "for i in df['Value Date']:\n",
    "    cre_list3.append(i)\n",
    "cred_date = []\n",
    "for i in cre_not_null_pos:\n",
    "    cred_date.append(cre_list3[i])\n",
    "print(len(cred_date))"
   ]
  },
  {
   "cell_type": "code",
   "execution_count": 21,
   "metadata": {},
   "outputs": [
    {
     "data": {
      "text/plain": [
       "Text(0.5, 1.0, 'My personal earnings 2019')"
      ]
     },
     "execution_count": 21,
     "metadata": {},
     "output_type": "execute_result"
    },
    {
     "data": {
      "image/png": "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",
      "text/plain": [
       "<Figure size 432x288 with 1 Axes>"
      ]
     },
     "metadata": {
      "needs_background": "light"
     },
     "output_type": "display_data"
    }
   ],
   "source": [
    "plt.plot(cred_date,Credit)\n",
    "plt.xlabel('Date')\n",
    "plt.ylabel('Credit')\n",
    "plt.title('My personal earnings 2019')"
   ]
  }
 ],
 "metadata": {
  "interpreter": {
   "hash": "c99a520a13db95d7256f2c15c3d7bcce29de16a70a0824cf053c81b466455a91"
  },
  "kernelspec": {
   "display_name": "Python 3.9.1 64-bit",
   "language": "python",
   "name": "python3"
  },
  "language_info": {
   "codemirror_mode": {
    "name": "ipython",
    "version": 3
   },
   "file_extension": ".py",
   "mimetype": "text/x-python",
   "name": "python",
   "nbconvert_exporter": "python",
   "pygments_lexer": "ipython3",
   "version": "3.9.1"
  },
  "orig_nbformat": 4
 },
 "nbformat": 4,
 "nbformat_minor": 2
}
