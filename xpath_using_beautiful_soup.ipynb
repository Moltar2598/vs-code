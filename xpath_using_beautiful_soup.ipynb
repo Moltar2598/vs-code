{
 "cells": [
  {
   "cell_type": "code",
   "execution_count": 127,
   "metadata": {},
   "outputs": [
    {
     "name": "stdout",
     "output_type": "stream",
     "text": [
      "Earth\n"
     ]
    }
   ],
   "source": [
    "import requests\n",
    "from lxml import etree\n",
    "from bs4 import BeautifulSoup\n",
    "#Function to Find the element from the Xpath\n",
    "def Xpath(url):\n",
    "  Dict_Headers = ({'User-Agent':\n",
    "      'Mozilla/5.0 (X11; Linux x86_64) AppleWebKit/537.36 \\\n",
    "      (KHTML, like Gecko) Chrome/44.0.2403.157 Safari/537.36',\\\n",
    "      'Accept-Language': 'en-US, en;q=0.5'})\n",
    "  # Gets the requried data https browser's address bar\n",
    "  webPage = requests.get(url,Dict_Headers)\n",
    "  # Creating a soup Object from the html content\n",
    "  Scraping = BeautifulSoup(webPage.content, \"html.parser\") \n",
    "  # Conveting Soup object to etree object for Xpath processing\n",
    "  documentObjectModel = etree.HTML(str(Scraping)) \n",
    "  return (documentObjectModel.xpath('//*[@id=\"firstHeading\"]')[0].text)\n",
    "URL = \"https://en.wikipedia.org/wiki/Earth\"\n",
    "print(Xpath(URL))"
   ]
  }
 ],
 "metadata": {
  "interpreter": {
   "hash": "916dbcbb3f70747c44a77c7bcd40155683ae19c65e1c03b4aa3499c5328201f1"
  },
  "kernelspec": {
   "display_name": "Python 3.8.10 64-bit",
   "language": "python",
   "name": "python3"
  },
  "language_info": {
   "codemirror_mode": {
    "name": "ipython",
    "version": 3
   },
   "file_extension": ".py",
   "mimetype": "text/x-python",
   "name": "python",
   "nbconvert_exporter": "python",
   "pygments_lexer": "ipython3",
   "version": "3.8.10"
  },
  "orig_nbformat": 4
 },
 "nbformat": 4,
 "nbformat_minor": 2
}
